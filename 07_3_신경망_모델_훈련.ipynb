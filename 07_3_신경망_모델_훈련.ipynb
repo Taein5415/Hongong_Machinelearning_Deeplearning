{
  "nbformat": 4,
  "nbformat_minor": 0,
  "metadata": {
    "colab": {
      "provenance": [],
      "authorship_tag": "ABX9TyPs58WA85WTdqzskqpyXvoB"
    },
    "kernelspec": {
      "name": "python3",
      "display_name": "Python 3"
    },
    "language_info": {
      "name": "python"
    }
  },
  "cells": [
    {
      "cell_type": "markdown",
      "source": [
        "#손실 곡선\n",
        "\n",
        "\n",
        "*   케라스의 fit() 메서드는 History 클래스 객체를 반환한다.\n",
        "*   History 객체는 훈련 과정에서 계산한 지표, 즉 손실과 정확도 값이 저장되어 있다.\n",
        "\n",
        "이 값을 사용하여 그래프를 그릴 수 있다.\n",
        "\n"
      ],
      "metadata": {
        "id": "qfZV-KHFMg4p"
      }
    },
    {
      "cell_type": "markdown",
      "source": [
        "먼저 패션 MNIST 데이터셋을 적재하고 훈련 세트와 검증 세트로 나눈다."
      ],
      "metadata": {
        "id": "-aZwNu8sM7TU"
      }
    },
    {
      "cell_type": "code",
      "execution_count": 4,
      "metadata": {
        "id": "zhr0QJzxMIqm"
      },
      "outputs": [],
      "source": [
        "from tensorflow import keras\n",
        "from sklearn.model_selection import train_test_split\n",
        "(train_input, train_target,), (test_input, test_target) = keras.datasets.fashion_mnist.load_data()\n",
        "train_scaled = train_input/255.0\n",
        "train_scaled, val_scaled, train_target, val_target = train_test_split(train_scaled, train_target, test_size=0.2, random_state=42)"
      ]
    },
    {
      "cell_type": "markdown",
      "source": [
        "그 다음으로 모델을 만든다."
      ],
      "metadata": {
        "id": "nOTW7VK9Nyoq"
      }
    },
    {
      "cell_type": "markdown",
      "source": [
        "다음으로, 간단한 함수를 하나 정의한다."
      ],
      "metadata": {
        "id": "AxtWJMK8N1wD"
      }
    },
    {
      "cell_type": "code",
      "source": [
        "def model_fn(a_layer=None):\n",
        "  model = keras.Sequential()\n",
        "  model.add(keras.layers.Flatten(input_shape=(28,28)))\n",
        "  model.add(keras.layers.Dense(100,activation='relu'))\n",
        "  if a_layer:\n",
        "    model.add(a_layer)\n",
        "  model.add(keras.layers.Dense(10, activation='softmax'))\n",
        "  return model"
      ],
      "metadata": {
        "id": "ty7vTbvcN6uZ"
      },
      "execution_count": 5,
      "outputs": []
    },
    {
      "cell_type": "markdown",
      "source": [
        "이 함수는 모델을 만드는 함수이다. a_layer 매개변수가 None이 아니라면 은닉층 뒤ㅔㅇ 또 하나의 킁을 추가하는 방식이다."
      ],
      "metadata": {
        "id": "qmoywCEHOUHp"
      }
    },
    {
      "cell_type": "code",
      "source": [
        "model = model_fn()\n",
        "model.summary()"
      ],
      "metadata": {
        "colab": {
          "base_uri": "https://localhost:8080/"
        },
        "id": "IOaa0nv5Op5n",
        "outputId": "919258a9-fb27-4c45-c034-ce731e73f46f"
      },
      "execution_count": 7,
      "outputs": [
        {
          "output_type": "stream",
          "name": "stdout",
          "text": [
            "Model: \"sequential_1\"\n",
            "_________________________________________________________________\n",
            " Layer (type)                Output Shape              Param #   \n",
            "=================================================================\n",
            " flatten_1 (Flatten)         (None, 784)               0         \n",
            "                                                                 \n",
            " dense_2 (Dense)             (None, 100)               78500     \n",
            "                                                                 \n",
            " dense_3 (Dense)             (None, 10)                1010      \n",
            "                                                                 \n",
            "=================================================================\n",
            "Total params: 79,510\n",
            "Trainable params: 79,510\n",
            "Non-trainable params: 0\n",
            "_________________________________________________________________\n"
          ]
        }
      ]
    },
    {
      "cell_type": "markdown",
      "source": [
        "정의한 함수를 통해 모델을 만들 수 있음을 알 수 있다. 다음으로 fit() 매서드의 결과를 history 변수에 담아본다."
      ],
      "metadata": {
        "id": "Mof7kCcsOxaW"
      }
    },
    {
      "cell_type": "code",
      "source": [
        "model.compile(loss='sparse_categorical_crossentropy', metrics='accuracy')\n",
        "history = model.fit(train_scaled, train_target, epochs=5, verbose=0)"
      ],
      "metadata": {
        "id": "cX-IyJt9PHsw"
      },
      "execution_count": 9,
      "outputs": []
    },
    {
      "cell_type": "markdown",
      "source": [
        "history 객체에는 훈련 특정값이 담겨있는 history 딕셔너리가 있다. 아래는 이 딕셔너리의 값이다."
      ],
      "metadata": {
        "id": "oFffstTtPeqM"
      }
    },
    {
      "cell_type": "code",
      "source": [
        "print(history.history.keys())"
      ],
      "metadata": {
        "colab": {
          "base_uri": "https://localhost:8080/"
        },
        "id": "BV5W78GmPodz",
        "outputId": "e2a80c48-3a5f-4389-d441-0100723cbac4"
      },
      "execution_count": 11,
      "outputs": [
        {
          "output_type": "stream",
          "name": "stdout",
          "text": [
            "dict_keys(['loss', 'accuracy'])\n"
          ]
        }
      ]
    },
    {
      "cell_type": "markdown",
      "source": [
        "hisotry 객체에는 손실과 정확도가 포함되어 있다."
      ],
      "metadata": {
        "id": "VZD0kaqcPxFK"
      }
    },
    {
      "cell_type": "markdown",
      "source": [
        "케라스는 기본적으로 에포크마다 손실을 계삲나다. 정확도는 compile() 메서드에서 metrics 매개변수에  'accuracy' 를 추가했기 때문에 history 속성에 포함된다."
      ],
      "metadata": {
        "id": "gM0BOkZ9P4oz"
      }
    },
    {
      "cell_type": "markdown",
      "source": [
        "history 속성에 포함된 손실과 정확도는 에포크마다 계산한 값이 순서대로 나열된 단순한 리스트이다. 맷 플롯립을 사용해 그래프로 나타낼 수 있다."
      ],
      "metadata": {
        "id": "yWbTBxR4QDsL"
      }
    },
    {
      "cell_type": "code",
      "source": [
        "import matplotlib.pyplot as plt\n",
        "plt.plot(history.history['loss'])\n",
        "plt.xlabel('epochs')\n",
        "plt.ylabel('loss')\n",
        "plt.show()"
      ],
      "metadata": {
        "colab": {
          "base_uri": "https://localhost:8080/",
          "height": 455
        },
        "id": "iVeR3SHmQNIA",
        "outputId": "5fcb1fb2-e3ee-43e0-de38-1e4374d62244"
      },
      "execution_count": 12,
      "outputs": [
        {
          "output_type": "display_data",
          "data": {
            "text/plain": [
              "<Figure size 640x480 with 1 Axes>"
            ],
            "image/png": "[encoded data removed]"
          },
          "metadata": {}
        }
      ]
    },
    {
      "cell_type": "markdown",
      "source": [
        "에포크가 0에서부터 4까지 x축에 표현된다."
      ],
      "metadata": {
        "id": "OhazQYNgQhY-"
      }
    },
    {
      "cell_type": "markdown",
      "source": [
        "다음은 정확도 출력이다."
      ],
      "metadata": {
        "id": "t4dNpLlBQlos"
      }
    },
    {
      "cell_type": "code",
      "source": [
        "plt.plot(history.history['accuracy'])\n",
        "plt.xlabel('epoch')\n",
        "plt.ylabel('accuracy')\n",
        "plt.show()"
      ],
      "metadata": {
        "colab": {
          "base_uri": "https://localhost:8080/",
          "height": 449
        },
        "id": "iHVHPvXcQoKa",
        "outputId": "25e35df6-630e-40b9-999c-ba465f20d661"
      },
      "execution_count": 13,
      "outputs": [
        {
          "output_type": "display_data",
          "data": {
            "text/plain": [
              "<Figure size 640x480 with 1 Axes>"
            ],
            "image/png": "[encoded data removed]"
          },
          "metadata": {}
        }
      ]
    },
    {
      "cell_type": "markdown",
      "source": [
        "에포크가 증가할 때마다 손실이 감소하고 정확도가 향상된다. 그렇다면 에포크 횟수를 20으로 늘려 모델을 훈련하고 손실 그래프를 그려본다."
      ],
      "metadata": {
        "id": "c_tUWIspQyLi"
      }
    },
    {
      "cell_type": "code",
      "source": [
        "model = model_fn()\n",
        "model.compile(loss='sparse_categorical_crossentropy', metrics='accuracy')\n",
        "history = model.fit(train_scaled, train_target, epochs=20, verbose=0)\n",
        "\n",
        "plt.plot(history.history['loss'])\n",
        "plt.xlabel('epoch')\n",
        "plt.ylabel('loss')\n",
        "plt.show()"
      ],
      "metadata": {
        "colab": {
          "base_uri": "https://localhost:8080/",
          "height": 452
        },
        "id": "1iww2L5cQ91j",
        "outputId": "22ec67a8-f244-4587-84d0-72a2dde451d4"
      },
      "execution_count": 17,
      "outputs": [
        {
          "output_type": "display_data",
          "data": {
            "text/plain": [
              "<Figure size 640x480 with 1 Axes>"
            ],
            "image/png": "[encoded data removed]"
          },
          "metadata": {}
        }
      ]
    },
    {
      "cell_type": "markdown",
      "source": [
        "에포크가 증가함에 따라 손실이 감소하는 모습을 보인다. 과연 이전보다 더 나은 모델을 훈련한 것일까?"
      ],
      "metadata": {
        "id": "hOH-vMAtSEhy"
      }
    },
    {
      "cell_type": "markdown",
      "source": [
        "#검증 손실\n",
        "에포크에 다른 과대적합을 파알하려면 훈련 세트에 대한 점수뿐만 아니라 검증세트에 대한 점수도 필요하다. 따라서 훈련 세트의 손실만 그리면 안된다."
      ],
      "metadata": {
        "id": "9s9atYcCSNbR"
      }
    },
    {
      "cell_type": "markdown",
      "source": [
        "인공 신경망 모델이 최적화하는 대상은 정확도가 아니라 손실함수이다. 모델이 잘 훈련되었는지 판단하려면 정확도보다는 손실 함수의 값을 확인하는 것이 더 낫다."
      ],
      "metadata": {
        "id": "JBw3JrTnSmVM"
      }
    },
    {
      "cell_type": "markdown",
      "source": [
        "먼저 에포트마다 검증 손실을 계산하기 위해 케라스 모델의 fit() 메서드에 검증 데이터를 전달 할 수 있다. validation_data 매개변수에 검증에 사용할 입력과 타깃값을 튜플로 만들어 전달한다."
      ],
      "metadata": {
        "id": "iQUO3UPcS1Re"
      }
    },
    {
      "cell_type": "code",
      "source": [
        "model = model_fn()\n",
        "model.compile(loss='sparse_categorical_crossentropy', metrics='accuracy')\n",
        "history = model.fit(train_scaled, train_target, epochs=20, verbose=0, validation_data=(val_scaled, val_target))"
      ],
      "metadata": {
        "id": "J2-qqLTzTB9V"
      },
      "execution_count": 19,
      "outputs": []
    },
    {
      "cell_type": "markdown",
      "source": [
        "반환된 history 딕셔너리에 아떤 값이 들어있는지 확인한다."
      ],
      "metadata": {
        "id": "LKFSst7CTjq0"
      }
    },
    {
      "cell_type": "code",
      "source": [
        "print(history.history.keys())"
      ],
      "metadata": {
        "colab": {
          "base_uri": "https://localhost:8080/"
        },
        "id": "w45fzgDaTpqn",
        "outputId": "a46d5fa2-4eb8-4c01-9db5-cfceb8be30e4"
      },
      "execution_count": 20,
      "outputs": [
        {
          "output_type": "stream",
          "name": "stdout",
          "text": [
            "dict_keys(['loss', 'accuracy', 'val_loss', 'val_accuracy'])\n"
          ]
        }
      ]
    },
    {
      "cell_type": "markdown",
      "source": [
        "검증 세트에 대한 손실은 val_loss에 들어있고, 정확도는 val_accuracy 에 들어있다. 과대, 과소적합 문제를 조사하기 위해 훈련 손실과 검증 손실을 한 그래프에 그려서 비교해본다."
      ],
      "metadata": {
        "id": "s7hUDJYETsYs"
      }
    },
    {
      "cell_type": "code",
      "source": [
        "plt.plot(history.history['loss'])\n",
        "plt.plot(history.history['val_loss'])\n",
        "plt.xlabel('epoch')\n",
        "plt.ylabel('loss')\n",
        "plt.legend(['train','val'])\n",
        "plt.show()"
      ],
      "metadata": {
        "colab": {
          "base_uri": "https://localhost:8080/",
          "height": 449
        },
        "id": "EJqwY8FdT_sa",
        "outputId": "8d10eac7-55bb-4dab-b8cd-9a547df86051"
      },
      "execution_count": 22,
      "outputs": [
        {
          "output_type": "display_data",
          "data": {
            "text/plain": [
              "<Figure size 640x480 with 1 Axes>"
            ],
            "image/png": "[encoded data removed]"
          },
          "metadata": {}
        }
      ]
    },
    {
      "cell_type": "markdown",
      "source": [
        "초기에는 검증 손실이 감소하다가 다섯 번재 에포크만에 다시 상승한다."
      ],
      "metadata": {
        "id": "-P_eINorUWV8"
      }
    },
    {
      "cell_type": "markdown",
      "source": [
        "훈련 손실은 꾸준히 감소하기 때문에 전형적인 과대적합 모델이다. 검증 손실이 상승하는 시점을 가능한 뒤로 늦추면 검증 세트에 대한 손실이 줄어들 뿐만 아니라 검증 세트에 대한 정확도도 높아질 것이다."
      ],
      "metadata": {
        "id": "1Krsgx1LU9yF"
      }
    },
    {
      "cell_type": "markdown",
      "source": [
        "과대 적합을 막기 위해 옵티마이저 하이퍼파라미터를 조정하여 과대적합을 완화시킬 수 있는지 확인한다."
      ],
      "metadata": {
        "id": "CWqaoOMMVKkQ"
      }
    },
    {
      "cell_type": "code",
      "source": [
        "model = model_fn()\n",
        "model.compile(optimizer='adam', loss='sparse_categorical_crossentropy', metrics='accuracy')\n",
        "history = model.fit(train_scaled, train_target, epochs=20, verbose=0, validation_data=(val_scaled, val_target))\n",
        "\n",
        "plt.plot(history.history['loss'])\n",
        "plt.plot(history.history['val_loss'])\n",
        "plt.xlabel('epoch')\n",
        "plt.ylabel('loss')\n",
        "plt.legend(['train','val'])\n",
        "plt.show()"
      ],
      "metadata": {
        "colab": {
          "base_uri": "https://localhost:8080/",
          "height": 449
        },
        "id": "NtPxTP1UVTXU",
        "outputId": "cf239468-368b-44ef-d130-efa738d53f76"
      },
      "execution_count": 23,
      "outputs": [
        {
          "output_type": "display_data",
          "data": {
            "text/plain": [
              "<Figure size 640x480 with 1 Axes>"
            ],
            "image/png": "[encoded data removed]"
          },
          "metadata": {}
        }
      ]
    },
    {
      "cell_type": "markdown",
      "source": [
        "과대 적합이 많이 줄어들었다. 검증 손실 그래프에 여전히 요동이 남아있지만 열번째 에포크까지 감소 추세가 이어진다. Adam 옵티마이저가 이 데이터에 잘 맞는다는 것이다."
      ],
      "metadata": {
        "id": "FHjsaR0vVgJI"
      }
    },
    {
      "cell_type": "markdown",
      "source": [
        "더 나은 손실 곡선을 얻으려면 학습률을 조정하여 다시 시도할 수 있다. 그 방법으로 ***드롭 아웃*** 이 있다."
      ],
      "metadata": {
        "id": "ckodXgCPVqks"
      }
    },
    {
      "cell_type": "markdown",
      "source": [
        "#드롭 아웃\n",
        "***드롭 아웃***은 훈련 과정에서 층에 있는 일부 뉴런을 랜덤하게 꺼서 과대적합을 막는 방식이다. 랜덤한 뉴런의 출력을 0으로 만들어 과대적합을 막는 것이다."
      ],
      "metadata": {
        "id": "cbP6tvjhV1f9"
      }
    },
    {
      "cell_type": "markdown",
      "source": [
        "이때 얼마나 많은 뉴런을 드롭할지는 우리가 정해야 할 도 다른 하이퍼파라미터이다."
      ],
      "metadata": {
        "id": "fWW0PNcTWIG2"
      }
    },
    {
      "cell_type": "markdown",
      "source": [
        "드롭아웃이 어떻게 과대적합을 막을 수 있을까.     \n",
        "이전 츠의 일부 뉴런이 랜덤하게 거지면 특정 뉴런에 과대하게 의존할 수 있고 모든 입력에 대해 주의를 기울여야 한다. 일부 뉴런의 출력이 없을 수 있다는 것을 감안하면 신경망은 더 안정적인 예측을 만들 수 있다."
      ],
      "metadata": {
        "id": "JtGzyYsfWQXV"
      }
    },
    {
      "cell_type": "markdown",
      "source": [
        "케라스에서 드롭아웃을 keras.layers 패키지 아래의 Dropout 클래스로 제공한다. 어떤 층의 뒤에 드롭아웃을 두어 이 층의 출력을 랜덤하게 0으로 하는 것이다.     \n",
        "층처럼 제공하지만 훈련되는 파라미터는 없다."
      ],
      "metadata": {
        "id": "yScYQghMWgXP"
      }
    },
    {
      "cell_type": "markdown",
      "source": [
        "model_fn() 함수에 매개변수로 드롭아웃 객체를 전달하여 층을 추가한다. 30%을 드롭아웃하게 한다."
      ],
      "metadata": {
        "id": "XobXdgGlWwSs"
      }
    },
    {
      "cell_type": "code",
      "source": [
        "model = model_fn(keras.layers.Dropout(0.3))\n",
        "model.summary()"
      ],
      "metadata": {
        "colab": {
          "base_uri": "https://localhost:8080/"
        },
        "id": "qK7fgSu3W6F-",
        "outputId": "3ea5eba5-9855-456d-ca53-b16d5b405839"
      },
      "execution_count": 26,
      "outputs": [
        {
          "output_type": "stream",
          "name": "stdout",
          "text": [
            "Model: \"sequential_8\"\n",
            "_________________________________________________________________\n",
            " Layer (type)                Output Shape              Param #   \n",
            "=================================================================\n",
            " flatten_8 (Flatten)         (None, 784)               0         \n",
            "                                                                 \n",
            " dense_16 (Dense)            (None, 100)               78500     \n",
            "                                                                 \n",
            " dropout_1 (Dropout)         (None, 100)               0         \n",
            "                                                                 \n",
            " dense_17 (Dense)            (None, 10)                1010      \n",
            "                                                                 \n",
            "=================================================================\n",
            "Total params: 79,510\n",
            "Trainable params: 79,510\n",
            "Non-trainable params: 0\n",
            "_________________________________________________________________\n"
          ]
        }
      ]
    },
    {
      "cell_type": "markdown",
      "source": [
        "드옵아웃 되는 층이 추가되었고 이 층은 파라미터가 없다 또한 입력과 출력의 크기가 같다. 일부 뉴런의 출력을 0으로 만들지만 전체 출력 배열의 크기를 바꾸지는 않는다."
      ],
      "metadata": {
        "id": "4UMXSKQ0XDdz"
      }
    },
    {
      "cell_type": "markdown",
      "source": [
        "훈련이 끝난 뒤에는 평가나 예측을 수행할때 드롭아웃을 적용하지 말아야 한다. 훈련된 모든 뉴런을 사용해야 올바른 예측을 해야 한다."
      ],
      "metadata": {
        "id": "ttMUPL63XSMI"
      }
    },
    {
      "cell_type": "markdown",
      "source": [
        "텐서플로와 케라스는 모델을 평가와 예측에 사용할 때는 자동으로 드롭아웃을 적용하지 않는다. 그래서 마음 편하게 검증 점수를 계산할 수 있다."
      ],
      "metadata": {
        "id": "QyQ8sdiTXdDR"
      }
    },
    {
      "cell_type": "code",
      "source": [
        "model.compile(optimizer='adam', loss='sparse_categorical_crossentropy', metrics='accuracy')\n",
        "history = model.fit(train_scaled, train_target, epochs=20, verbose=0, validation_data=(val_scaled, val_target))\n",
        "\n",
        "plt.plot(history.history['loss'])\n",
        "plt.plot(history.history['val_loss'])\n",
        "plt.xlabel('epoch')\n",
        "plt.ylabel('loss')\n",
        "plt.legend(['train','val'])\n",
        "plt.show()"
      ],
      "metadata": {
        "colab": {
          "base_uri": "https://localhost:8080/",
          "height": 451
        },
        "id": "RbUBlpgZXlCU",
        "outputId": "21a2710a-9661-4fb2-f4a2-616286229bf8"
      },
      "execution_count": 27,
      "outputs": [
        {
          "output_type": "display_data",
          "data": {
            "text/plain": [
              "<Figure size 640x480 with 1 Axes>"
            ],
            "image/png": "[encoded data removed]"
          },
          "metadata": {}
        }
      ]
    },
    {
      "cell_type": "markdown",
      "source": [
        "과대적합이 많이 줄었다. 열번재 에포크 정도에서 검증 손실의 감소가 멈추지만 크게 상승하지도 않고 유지된다."
      ],
      "metadata": {
        "id": "ZEZJ08BVXqDe"
      }
    },
    {
      "cell_type": "markdown",
      "source": [
        "이 모델은 20번의 에포크동안 훈련햇기 때문에 결국 다소 과대적합되있다. 다라서 에포크 횟수를 10회로 다시 훈련해야 한다."
      ],
      "metadata": {
        "id": "ISUEgljkXzVR"
      }
    },
    {
      "cell_type": "markdown",
      "source": [
        "#모델 복원\n",
        "에포크 횟수를 10으로 다시 지정하고 훈현한다. 또한 나중에 훈련된 모델의 파라미터를 저장하기 위해 save_weights() 메서드를 사용할 수 있다."
      ],
      "metadata": {
        "id": "vgqVX_mZYgfy"
      }
    },
    {
      "cell_type": "code",
      "source": [
        "model = model_fn(keras.layers.Dropout(0.3))\n",
        "model.compile(optimizer='adam', loss='sparse_categorical_crossentropy', metrics='accuracy')\n",
        "history = model.fit(train_scaled, train_target, epochs=10, verbose=0, validation_data=(val_scaled, val_target))\n",
        "\n",
        "model.save_weights('model-weights.h5')"
      ],
      "metadata": {
        "id": "JWLpgnsSYwO2"
      },
      "execution_count": 28,
      "outputs": []
    },
    {
      "cell_type": "markdown",
      "source": [
        "또한 모델 구조와 모델 파라미터를 함께 저장하는 save() 메서드 도한 제공한다. 텐서플로의 SavedModel 포맷으로 저장하지만 파일의 확장자가 '.h5' 이라면 HDF5 포맷으로 저장한다."
      ],
      "metadata": {
        "id": "hxANoMCyZJyC"
      }
    },
    {
      "cell_type": "code",
      "source": [
        "model.save('model-whole.h5')"
      ],
      "metadata": {
        "id": "LXEnBqq8ZfMi"
      },
      "execution_count": 29,
      "outputs": []
    },
    {
      "cell_type": "markdown",
      "source": [
        "두 파일을 확인한다."
      ],
      "metadata": {
        "id": "Y_RQaRdGZm0A"
      }
    },
    {
      "cell_type": "code",
      "source": [
        "!ls -al *.h5"
      ],
      "metadata": {
        "colab": {
          "base_uri": "https://localhost:8080/"
        },
        "id": "Z08WlQq7Zp5l",
        "outputId": "211be584-8d74-43f9-98c2-8ef8999a543a"
      },
      "execution_count": 30,
      "outputs": [
        {
          "output_type": "stream",
          "name": "stdout",
          "text": [
            "-rw-r--r-- 1 root root 333320 Aug 21 14:01 model-weights.h5\n",
            "-rw-r--r-- 1 root root 981176 Aug 21 14:01 model-whole.h5\n"
          ]
        }
      ]
    },
    {
      "cell_type": "markdown",
      "source": [
        "훈련한 모델의 파라미터를 저자했으니 후녈ㄴ을 하지 않은 새로운 모델을 만들고 model-wiehgt.h5 파일에서 훈련된 모델 파라미터를 읽어서 사용해본다."
      ],
      "metadata": {
        "id": "0yyY1QsFZtkK"
      }
    },
    {
      "cell_type": "code",
      "source": [
        "model = model_fn(keras.layers.Dropout(0.3))\n",
        "model.load_weights('model-weights.h5')"
      ],
      "metadata": {
        "id": "Knd7WRhuaNQC"
      },
      "execution_count": 34,
      "outputs": []
    },
    {
      "cell_type": "markdown",
      "source": [
        "save_weights() 메서드와 쌍을 이루는 메서드는 load_weight임을 알 수 있다."
      ],
      "metadata": {
        "id": "h4ueWmjOab39"
      }
    },
    {
      "cell_type": "markdown",
      "source": [
        "이제 이 모델의 검증정확도를 확인해본다. 케라스에서 예측을 수행하는 predict 메서드는 사이킷런과 달리 샘플마다 10개의 클래시에 대한 확률을 반환한다."
      ],
      "metadata": {
        "id": "WfL33o6MbfYF"
      }
    },
    {
      "cell_type": "markdown",
      "source": [
        "패션 MNIST 데이터셋에서 덜어낸 검증 세트의 샘플 개수는 12000개이므로 predict 메서드는 (12000, 10) 크기의 배열을 반환한다."
      ],
      "metadata": {
        "id": "j5IArdsabodf"
      }
    },
    {
      "cell_type": "markdown",
      "source": [
        "띠라서 먼저 10개의 확률중에서 가장 클 값의 인덱스를 고랄 타깃 레이블과 비교하여 정확도를 계산해본다."
      ],
      "metadata": {
        "id": "rpihAk4Hb0mE"
      }
    },
    {
      "cell_type": "code",
      "source": [
        "import numpy as np\n",
        "val_labels= np.argmax(model.predict(val_scaled), axis=-1)\n",
        "print(np.mean(val_labels == val_target))"
      ],
      "metadata": {
        "colab": {
          "base_uri": "https://localhost:8080/"
        },
        "id": "BhtcPBaBbF1I",
        "outputId": "5237565d-a274-486a-9533-cb265bf44572"
      },
      "execution_count": 36,
      "outputs": [
        {
          "output_type": "stream",
          "name": "stdout",
          "text": [
            "375/375 [==============================] - 1s 3ms/step\n",
            "0.8814166666666666\n"
          ]
        }
      ]
    },
    {
      "cell_type": "markdown",
      "source": [
        "모델의 predict() 메서드 결과에서 가장 큰 값을 고르기 위해 넘파이 argmax() 함수를 사용했다. 이 함수는 배열에서 가장 큰 값의 안덱스를 반환한다."
      ],
      "metadata": {
        "id": "e8Prc-K8b69o"
      }
    },
    {
      "cell_type": "markdown",
      "source": [
        "argmax 함수의 axis=-1 은 배열의 마지막 차원을 따라 최댓값을 고른다. 검증 세트는 2차원 배열이기 때문에 마지막 차원은 1이 된다."
      ],
      "metadata": {
        "id": "zE1tA5Z2cHw4"
      }
    },
    {
      "cell_type": "markdown",
      "source": [
        "이번에는 모델 전체를 파일에서 읽은 다음 검증 세트의 정확도를 출력해본다. 모델이 저장된 파일을 읽을 때는 케라스가 제공하는 load_model() 함수를 사용한다."
      ],
      "metadata": {
        "id": "FsA0My4Ockdq"
      }
    },
    {
      "cell_type": "code",
      "source": [
        "model = keras.models.load_model('model-whole.h5')\n",
        "model.evaluate(val_scaled, val_target)"
      ],
      "metadata": {
        "colab": {
          "base_uri": "https://localhost:8080/"
        },
        "id": "5l_SG3P1cuug",
        "outputId": "25bd2e01-296a-4e7f-8b27-5f7847dcd820"
      },
      "execution_count": 38,
      "outputs": [
        {
          "output_type": "stream",
          "name": "stdout",
          "text": [
            "375/375 [==============================] - 1s 2ms/step - loss: 0.3247 - accuracy: 0.8814\n"
          ]
        },
        {
          "output_type": "execute_result",
          "data": {
            "text/plain": [
              "[0.32473623752593994, 0.8814166784286499]"
            ]
          },
          "metadata": {},
          "execution_count": 38
        }
      ]
    },
    {
      "cell_type": "markdown",
      "source": [
        "같은 모델을 저장하고 불러들였으므로 동일한 정확도를 얻었다."
      ],
      "metadata": {
        "id": "LlSBNLVYc6FE"
      }
    },
    {
      "cell_type": "markdown",
      "source": [
        "위에서는 과대적합을 확인하기 위해 두번의 훈련을 수행했다. 한번만 훈련하여 결과를 얻을 수는 없을"
      ],
      "metadata": {
        "id": "beX4YhrIdDlY"
      }
    },
    {
      "cell_type": "markdown",
      "source": [
        "#콜백\n",
        "\n",
        "콜백은 훈련 과정 중간에 어떤 작업을 수행할 수 있게 하는 객체로 keras.callbacks 패키지 아래에 있는 클래스들이다. fit()메서드의 callbacks 매개변수에 리스트로 전달하여 사용한다."
      ],
      "metadata": {
        "id": "8CDuvTWRdMop"
      }
    },
    {
      "cell_type": "markdown",
      "source": [
        "ModelCheckpoint 콜백은 기본적으로 에포크마다 모델을 저장한다. save_only=True 매개변수를 지정하여 가장 낮은 검증 점수를 만드는 모델을 저장할 수 있다."
      ],
      "metadata": {
        "id": "8AGHCYYcdeGZ"
      }
    },
    {
      "cell_type": "code",
      "source": [
        "model = model_fn(keras.layers.Dropout(0.3))\n",
        "model.compile(optimizer='adam', loss='sparse_categorical_crossentropy', metrics='accuracy')\n",
        "\n",
        "checkpoint_cb = keras.callbacks.ModelCheckpoint('best-model.h5', save_best_only = True)\n",
        "\n",
        "model.fit(train_scaled, train_target, epochs=10, verbose=0, validation_data=(val_scaled, val_target), callbacks=[checkpoint_cb])"
      ],
      "metadata": {
        "colab": {
          "base_uri": "https://localhost:8080/"
        },
        "id": "fOmxQ1PrdpMR",
        "outputId": "201436c4-ad62-4077-d377-f8694cb90e35"
      },
      "execution_count": 41,
      "outputs": [
        {
          "output_type": "execute_result",
          "data": {
            "text/plain": [
              "<keras.callbacks.History at 0x7cfd4ea3bdf0>"
            ]
          },
          "metadata": {},
          "execution_count": 41
        }
      ]
    },
    {
      "cell_type": "markdown",
      "source": [
        "save_best_only=True 매개변수를 지정하여 가장 낮은 검증 점수를 만드는 모델을 저장할 수 있다."
      ],
      "metadata": {
        "id": "CjHMw5caeMW4"
      }
    },
    {
      "cell_type": "markdown",
      "source": [
        "model_fn 함수로 모델을 만들고 compile 메서드를 호출하는 것은 이전과 같은 방식이다.     \n",
        "ModelCheckpoint 클래스의 객체 checkpoint_cb 를 만든 후 fit() 메서드의 callbacks 매개변수에 리스트로 감싸서 전달한다. 모델이 훈련한 후에 best-model.h5 에 최상의 검증 점수를 낸 모델이 저장된다. 이 모델을 load_model 함수로 다시 읽어서 예측을 수행한다."
      ],
      "metadata": {
        "id": "hE36osbteWs2"
      }
    },
    {
      "cell_type": "code",
      "source": [
        "model = keras.models.load_model('best-model.h5')\n",
        "model.evaluate(val_scaled, val_target)\n"
      ],
      "metadata": {
        "colab": {
          "base_uri": "https://localhost:8080/"
        },
        "id": "uRx0dDNdeyBn",
        "outputId": "7aa11ac4-600e-4ca5-f540-92d973d15eea"
      },
      "execution_count": 42,
      "outputs": [
        {
          "output_type": "stream",
          "name": "stdout",
          "text": [
            "375/375 [==============================] - 1s 2ms/step - loss: 0.3292 - accuracy: 0.8830\n"
          ]
        },
        {
          "output_type": "execute_result",
          "data": {
            "text/plain": [
              "[0.32919684052467346, 0.8830000162124634]"
            ]
          },
          "metadata": {},
          "execution_count": 42
        }
      ]
    },
    {
      "cell_type": "markdown",
      "source": [
        "가장 낮은 검증 점수의 모델을 자동으로 저장해준다. 하지만 여전히 20번의 에포크 동안 훈련을 한다.        \n",
        " 사실상 검증 점수가 상승하기 시작하면 과대적합이 이후에 더 커지기 때문에 훈련을 계속할 필요가 없다.      \n",
        "  이 타이밍에 훈련을 미리 중지하는 것을 ***조기종료*** 라고 한다."
      ],
      "metadata": {
        "id": "TGC9uBdAe9HG"
      }
    },
    {
      "cell_type": "markdown",
      "source": [
        "##조기 종료\n",
        "훈련 에포크 횟수를 제한하는 역할이지만 모델이 과대적합되는 것을 막아주기 때문에 규제 방법중 하나로 생각할 수 있다."
      ],
      "metadata": {
        "id": "TJKuWB5vfbEU"
      }
    },
    {
      "cell_type": "markdown",
      "source": [
        "케라스에서는 조기 종료를 위한 EarlyStopping 콜백을 제공한다. 이 콜백의 patience 매개변수는 검증 점수가 향상되지 않더라도 참을 에포크 횟수로 지정한다.      \n",
        "또한 restore_best_weights 매개변수를 True로 지정하면 가장 낮은 검증 손실을 낸 모델 파라미터로 되돌린다.        \n",
        "patience = 2 로 지정하면 2번 연속 검증 점수가 향상되지 않으면 훈련을 중지한다."
      ],
      "metadata": {
        "id": "UMe2CDMOfkLe"
      }
    },
    {
      "cell_type": "markdown",
      "source": [
        "EarlyStopping 콜백을 ModelCheckpoint 콜백과 함께 사용하면 가장 낮은 검증 손실의 모델을 파일에 저장하고 검증 손실이 다시 상승할 때 훈련을 중지할 수 있다.     \n",
        "또한 훈련을 중지한 다음 현재 모델의 파라미터를 최상의 파아미터로 되돌린다."
      ],
      "metadata": {
        "id": "C0xOeFwef5W5"
      }
    },
    {
      "cell_type": "code",
      "source": [
        "##EarlyStopping 콜백과 ModelCheckpoint 콜백을 같이 사용하는 예제\n",
        "\n",
        "model = model_fn(keras.layers.Dropout(0.3))\n",
        "model.compile(optimizer='adam', loss='sparse_categorical_crossentropy', metrics='accuracy')\n",
        "\n",
        "checkpoint_cb = keras.callbacks.ModelCheckpoint('best-model.h5', save_best_only = True)\n",
        "\n",
        "early_stopping_cb = keras.callbacks.EarlyStopping(patience=2, restore_best_weights=True)\n",
        "\n",
        "hisotry = model.fit(train_scaled, train_target, epochs=20, verbose=0, validation_data=(val_scaled, val_target), callbacks=[checkpoint_cb, early_stopping_cb])"
      ],
      "metadata": {
        "id": "qtRu3umsgMb2"
      },
      "execution_count": 47,
      "outputs": []
    },
    {
      "cell_type": "markdown",
      "source": [
        "훈련이 끝나고 몇 번재 에포크에서 훈련이 중지되었는지는 early_stopping_cb 객체의 stopped_epoch 속성에서 확인할 수 있다."
      ],
      "metadata": {
        "id": "psaqNlWKg1UQ"
      }
    },
    {
      "cell_type": "code",
      "source": [
        "print(early_stopping_cb.stopped_epoch)"
      ],
      "metadata": {
        "colab": {
          "base_uri": "https://localhost:8080/"
        },
        "id": "24EdsMrshElf",
        "outputId": "dbcf65e5-d8c6-43bf-8153-5045e207251e"
      },
      "execution_count": 48,
      "outputs": [
        {
          "output_type": "stream",
          "name": "stdout",
          "text": [
            "7\n"
          ]
        }
      ]
    },
    {
      "cell_type": "markdown",
      "source": [
        "해당 모델에서는 8번째 에포크에서 훈련이 중지되었음을 알 수 있다. 에포크 횟수는 0번째부터 시작하므로 7이 출력됨은 8번째 에포크 회수이다.        \n",
        "patience를 2로 지정했으므로 최상의 모델을 7번재 에포크일 것이다."
      ],
      "metadata": {
        "id": "47tQ8C21hQS6"
      }
    },
    {
      "cell_type": "markdown",
      "source": [
        "훈련 솔실과 검증 손실을 출력해서 확인해본다."
      ],
      "metadata": {
        "id": "1OowP10Jgx9s"
      }
    },
    {
      "cell_type": "code",
      "source": [
        "plt.plot(history.history['loss'])\n",
        "plt.plot(history.history['val_loss'])\n",
        "plt.xlabel('epoch')\n",
        "plt.ylabel('loss')\n",
        "plt.legend(['train','val'])\n",
        "plt.show()"
      ],
      "metadata": {
        "colab": {
          "base_uri": "https://localhost:8080/",
          "height": 449
        },
        "id": "0gz66uy-hW7x",
        "outputId": "b1f70ace-2109-458e-d93b-e14e5e534c62"
      },
      "execution_count": 49,
      "outputs": [
        {
          "output_type": "display_data",
          "data": {
            "text/plain": [
              "<Figure size 640x480 with 1 Axes>"
            ],
            "image/png": "[encoded data removed]"
          },
          "metadata": {}
        }
      ]
    },
    {
      "cell_type": "markdown",
      "source": [
        "7번째에서 가장 낮을 손실을 기록했고 9번째에서 훈련이 중지되었다."
      ],
      "metadata": {
        "id": "mF-pXBImhcZS"
      }
    },
    {
      "cell_type": "markdown",
      "source": [
        "이 방식은 컴퓨터 자원과 시간을 악리 수 잇고 ModelCheckpoint 콜백과 함게 사용하면 최상의 모델을 자동으로 지정해주므로 편리하다."
      ],
      "metadata": {
        "id": "25GzY7XKiKS0"
      }
    },
    {
      "cell_type": "markdown",
      "source": [
        "마지막으로 조기 종료로 얻은 모델을 사용해 검증 세트에 대한 성능을 확인해본다."
      ],
      "metadata": {
        "id": "-Uhzt8wghcLd"
      }
    },
    {
      "cell_type": "code",
      "source": [
        "model.evaluate(val_scaled, val_target)"
      ],
      "metadata": {
        "colab": {
          "base_uri": "https://localhost:8080/"
        },
        "id": "IvH4MMEUhgzz",
        "outputId": "132c1b25-1dd1-4f00-c208-bc55e80026ae"
      },
      "execution_count": 51,
      "outputs": [
        {
          "output_type": "stream",
          "name": "stdout",
          "text": [
            "375/375 [==============================] - 1s 2ms/step - loss: 0.3336 - accuracy: 0.8789\n"
          ]
        },
        {
          "output_type": "execute_result",
          "data": {
            "text/plain": [
              "[0.33356499671936035, 0.8789166808128357]"
            ]
          },
          "metadata": {},
          "execution_count": 51
        }
      ]
    }
  ]
}