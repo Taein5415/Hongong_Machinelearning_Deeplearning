{
  "nbformat": 4,
  "nbformat_minor": 0,
  "metadata": {
    "colab": {
      "provenance": [],
      "authorship_tag": "ABX9TyNON4x9qWg4JFHfKsiivwL1"
    },
    "kernelspec": {
      "name": "python3",
      "display_name": "Python 3"
    },
    "language_info": {
      "name": "python"
    }
  },
  "cells": [
    {
      "cell_type": "markdown",
      "source": [
        "#가중치 시각화\n",
        "합성곱 층은 여러 개의 필터를 사용해 이미지에서 특징을 학습한다. 각 필터는 커널이라 부르는 가중치와 절편을 가지고 있다. 일반적으로 절편은 시각적으로 의미가 있지 않다, 가중치는 입력 이미지의 2차원 영역에 적용되어 어떤 특징을 크게 두드러지게 표현하는 역할을 한다."
      ],
      "metadata": {
        "id": "AOxcQkQNxaFa"
      }
    },
    {
      "cell_type": "markdown",
      "source": [
        "이전절에서 만든 모델이 어떤 가중치를 학습했는지 확인하기 위해 체크포인트 파일을 읽어 들인다."
      ],
      "metadata": {
        "id": "wiQ8o9J5zWWD"
      }
    },
    {
      "cell_type": "code",
      "source": [
        "from tensorflow import keras\n",
        "model = keras.models.load_model('best-cnn-model.h5')"
      ],
      "metadata": {
        "id": "bklZhRAHzfcV"
      },
      "execution_count": 46,
      "outputs": []
    },
    {
      "cell_type": "markdown",
      "source": [
        "케라스 모델에 추가한 층은 layers 속성에 저장되어 있다. 이 속성은 리스트 형태이다."
      ],
      "metadata": {
        "id": "e4Ium98p-MHJ"
      }
    },
    {
      "cell_type": "code",
      "source": [
        "model.layers"
      ],
      "metadata": {
        "colab": {
          "base_uri": "https://localhost:8080/"
        },
        "id": "QaMuSdaO-WhU",
        "outputId": "b496e12e-29df-490e-cf1c-a21898fd5635"
      },
      "execution_count": 47,
      "outputs": [
        {
          "output_type": "execute_result",
          "data": {
            "text/plain": [
              "[<keras.layers.convolutional.conv2d.Conv2D at 0x7925e37afc40>,\n",
              " <keras.layers.pooling.max_pooling2d.MaxPooling2D at 0x7925e37ae320>,\n",
              " <keras.layers.convolutional.conv2d.Conv2D at 0x7925f1b233d0>,\n",
              " <keras.layers.pooling.max_pooling2d.MaxPooling2D at 0x7925f1b21900>,\n",
              " <keras.layers.reshaping.flatten.Flatten at 0x7925e320cbb0>,\n",
              " <keras.layers.core.dense.Dense at 0x7925f1b22e30>,\n",
              " <keras.layers.regularization.dropout.Dropout at 0x7925e320eec0>,\n",
              " <keras.layers.core.dense.Dense at 0x7925e320ec80>]"
            ]
          },
          "metadata": {},
          "execution_count": 47
        }
      ]
    },
    {
      "cell_type": "markdown",
      "source": [
        "Conv2D, MaxPooling2D 층이 번갈아 2번 연속 등장한다.     \n",
        "그 다음 Flatten 층과 Dense 층, Dropout 층이 차례로 등정한다. 마지막에는 Dense 층이 놓여있다."
      ],
      "metadata": {
        "id": "5jOSugJZ-ZMc"
      }
    },
    {
      "cell_type": "markdown",
      "source": [
        "첫번째 합성 곱 층의 가중치를 조사한다. 층의 가중치와 절편은 층의 weights 속성에 저장되어 있다.      \n",
        "첫 번째 원소는 가중치이고 두 번째 원소는 절편이다."
      ],
      "metadata": {
        "id": "R1BNPHmN-sU3"
      }
    },
    {
      "cell_type": "code",
      "source": [
        "conv = model.layers[0]\n",
        "print(conv.weights[0].shape, conv.weights[1].shape)"
      ],
      "metadata": {
        "colab": {
          "base_uri": "https://localhost:8080/"
        },
        "id": "zsd8mkUT_QEb",
        "outputId": "da11a53b-322b-48ba-a027-83cf139133e7"
      },
      "execution_count": 48,
      "outputs": [
        {
          "output_type": "stream",
          "name": "stdout",
          "text": [
            "(3, 3, 1, 32) (32,)\n"
          ]
        }
      ]
    },
    {
      "cell_type": "markdown",
      "source": [
        "이전 절에서 커널의 크기를 (3,3 )으로 지정했고 이 합성곱 층에 전달되는 입력의 깊이가 1이므로 실제 커널의 크긴ㄴ (3, 3, 1)이다. 또한 필터의 개수가 32개이므로 weights의 첫 번째 원소인 가중치의 크기는 (3, 3, 1, 32)이다."
      ],
      "metadata": {
        "id": "lKkvW5uE_gH7"
      }
    },
    {
      "cell_type": "markdown",
      "source": [
        "절편의 개수는 필터마다 1개의 절편이 있으므로 (32, )가 된다."
      ],
      "metadata": {
        "id": "8HWANQkbAagU"
      }
    },
    {
      "cell_type": "markdown",
      "source": [
        "다음으로 conv 배열을 넘파이 배열로 변환하고 평군과 표준 편차를 구한다."
      ],
      "metadata": {
        "id": "wgo6r_LMAe-b"
      }
    },
    {
      "cell_type": "code",
      "source": [
        "conv_weights = conv.weights[0].numpy()\n",
        "print(conv_weights.mean(), conv_weights.std())"
      ],
      "metadata": {
        "colab": {
          "base_uri": "https://localhost:8080/"
        },
        "id": "5YGnt_CsAo1I",
        "outputId": "018ac0f1-7731-4a97-d1e2-4239407d5048"
      },
      "execution_count": 49,
      "outputs": [
        {
          "output_type": "stream",
          "name": "stdout",
          "text": [
            "-0.033471055 0.102287605\n"
          ]
        }
      ]
    },
    {
      "cell_type": "markdown",
      "source": [
        "평균은 거의 0에 가깝고, 표준 편차는 0.1 정도이다. 이를 히스토그램으로 나타내본다."
      ],
      "metadata": {
        "id": "dvefjA3PA1t5"
      }
    },
    {
      "cell_type": "code",
      "source": [
        "import matplotlib.pyplot as plt\n",
        "plt.hist(conv_weights.reshape(-1,1))\n",
        "plt.xlabel('weight')\n",
        "plt.ylabel('count')\n",
        "plt.show()"
      ],
      "metadata": {
        "colab": {
          "base_uri": "https://localhost:8080/",
          "height": 449
        },
        "id": "lyOZAORlBA63",
        "outputId": "49b84e93-5edd-4a6c-8d28-e77a7a48ae0f"
      },
      "execution_count": 50,
      "outputs": [
        {
          "output_type": "display_data",
          "data": {
            "text/plain": [
              "<Figure size 640x480 with 1 Axes>"
            ],
            "image/png": "[encoded data removed]"
          },
          "metadata": {}
        }
      ]
    },
    {
      "cell_type": "markdown",
      "source": [
        "팻플롯립의 hist() 함수에는 히스토그램을 그리기 위해 1차원 배열로 전달해야 한다."
      ],
      "metadata": {
        "id": "fS9NAXcYCDGk"
      }
    },
    {
      "cell_type": "markdown",
      "source": [
        "히스토그램은 0을 중심으로 종 모양 분포를 그리고 있다."
      ],
      "metadata": {
        "id": "hFzfN6kaCNKe"
      }
    },
    {
      "cell_type": "markdown",
      "source": [
        "다음으로는 32개의 커널을 16개씩 두 줄에 출력해본다.. 맷플롯립의 subplots() 함수를 사용해 32개의 그래프 영역을 만들고 순서대로 커널을 출력한다."
      ],
      "metadata": {
        "id": "EbdgvY38CSs6"
      }
    },
    {
      "cell_type": "code",
      "source": [
        "fig, axs = plt.subplots(2,16,figsize=(15,2))\n",
        "for i in range(2):\n",
        "    for j in range(16):\n",
        "        axs[i,j].imshow(conv_weights[:,:,0,i*16+j], vmin=-0.5, vmax=0.5)\n",
        "        axs[i,j].axis('off')\n",
        "plt.show()"
      ],
      "metadata": {
        "colab": {
          "base_uri": "https://localhost:8080/",
          "height": 182
        },
        "id": "sQ1PoO85Cefl",
        "outputId": "015c565b-a6ee-4744-b672-863970562d0b"
      },
      "execution_count": 51,
      "outputs": [
        {
          "output_type": "display_data",
          "data": {
            "text/plain": [
              "<Figure size 1500x200 with 32 Axes>"
            ],
            "image/png": "[encoded data removed]"
          },
          "metadata": {}
        }
      ]
    },
    {
      "cell_type": "markdown",
      "source": [
        "히스토그램을 보면 이 가중치 값이 무작위로 나열된 것이 아니라 어떤 패턴을 볼 수 있다.      \n"
      ],
      "metadata": {
        "id": "fXLyr1zSClOy"
      }
    },
    {
      "cell_type": "markdown",
      "source": [
        "imshow 함수는 배열에 있는 최댓값과 최솟값을 사용해 픽셀의 강도를 표현한다.     \n",
        "어떤 절댓값으로 기준을 정해서 픽셀의 강도르르 나타내기 위해 vmin과 vmax으로 컬러맵으로 표현할 번위를 지정한다."
      ],
      "metadata": {
        "id": "LcbGtvNHDU9-"
      }
    },
    {
      "cell_type": "markdown",
      "source": [
        "다음으로 훈련하지 않은 빈 합성곱 신경망을 만들어 훈련한 가중치와 비교해번다."
      ],
      "metadata": {
        "id": "x3jQPRLvDo3q"
      }
    },
    {
      "cell_type": "markdown",
      "source": [
        "먼저 Sequential 클래스로 모델을 만들고 Conv2D 층을 하나 만든다."
      ],
      "metadata": {
        "id": "erTfoSEODvYO"
      }
    },
    {
      "cell_type": "code",
      "source": [
        "no_training_model = keras.Sequential()\n",
        "no_training_model.add(keras.layers.Conv2D(32, kernel_size=3, activation='relu', padding='same', input_shape=(28,28,1)))"
      ],
      "metadata": {
        "id": "ICffCaPfD2L3"
      },
      "execution_count": 52,
      "outputs": []
    },
    {
      "cell_type": "markdown",
      "source": [
        "그 다음 이 모델의 첫 번재 층의 가중치를 no_training_conv에 저장한다."
      ],
      "metadata": {
        "id": "f64CGWUbELDj"
      }
    },
    {
      "cell_type": "code",
      "source": [
        "no_training_conv = no_training_model.layers[0]\n",
        "print(no_training_conv.weights[0].shape)"
      ],
      "metadata": {
        "colab": {
          "base_uri": "https://localhost:8080/"
        },
        "id": "F_VuIK-iEPdi",
        "outputId": "57c95216-2f9f-4de3-85de-6e299a3a250e"
      },
      "execution_count": 53,
      "outputs": [
        {
          "output_type": "stream",
          "name": "stdout",
          "text": [
            "(3, 3, 1, 32)\n"
          ]
        }
      ]
    },
    {
      "cell_type": "markdown",
      "source": [
        "위에서 출력한 훈련된 모델의 가중치와 같다. 이 가중치의 평균과 표준 편차를 확인한다."
      ],
      "metadata": {
        "id": "ZSX6NXlDEZ2Y"
      }
    },
    {
      "cell_type": "code",
      "source": [
        "no_training_weights = no_training_conv.weights[0].numpy()\n",
        "print(no_training_weights.mean(), no_training_weights.std())"
      ],
      "metadata": {
        "colab": {
          "base_uri": "https://localhost:8080/"
        },
        "id": "8r6EWKg4Eh_A",
        "outputId": "26c1a448-e248-4fcc-9b17-bbd2535e8363"
      },
      "execution_count": 54,
      "outputs": [
        {
          "output_type": "stream",
          "name": "stdout",
          "text": [
            "0.0002335487 0.082675464\n"
          ]
        }
      ]
    },
    {
      "cell_type": "markdown",
      "source": [
        "평균은 훈련된 모델과 비슷하게 0에 가깝고 표준편차는 작음 값이 출력된다.     \n",
        "이 가중치 배열을 히스토그램으로 표현한다."
      ],
      "metadata": {
        "id": "vt8cHGYlEze1"
      }
    },
    {
      "cell_type": "code",
      "source": [
        "plt.hist(no_training_weights.reshape(-1,1))\n",
        "plt.xlabel('weight')\n",
        "plt.ylabel('count')\n",
        "plt.show()"
      ],
      "metadata": {
        "colab": {
          "base_uri": "https://localhost:8080/",
          "height": 449
        },
        "id": "xujcEbskE7j7",
        "outputId": "8d64fd3f-64dd-4054-928f-6eb512d402c7"
      },
      "execution_count": 55,
      "outputs": [
        {
          "output_type": "display_data",
          "data": {
            "text/plain": [
              "<Figure size 640x480 with 1 Axes>"
            ],
            "image/png": "[encoded data removed]"
          },
          "metadata": {}
        }
      ]
    },
    {
      "cell_type": "markdown",
      "source": [
        "훈련된 데이터와는 매우 다른 그래프이다. 대부분의 가중치가 -0.15 에서 0.15 사이에 있고 고른 분포를 보여준다.      \n",
        "이러한 이유는 텐서플로가 신경망의 가중치를 처음 초기화할 대 균등 분포에서 랜덤하게 값을 선택하기 때문이다."
      ],
      "metadata": {
        "id": "HVfp8p1iFKZF"
      }
    },
    {
      "cell_type": "markdown",
      "source": [
        "이 가중치 값을 imshow() 함수를 사용해 그림으로 출력해본다."
      ],
      "metadata": {
        "id": "yG3wn1K1Fcmh"
      }
    },
    {
      "cell_type": "code",
      "source": [
        "fig, axs = plt.subplots(2,16,figsize=(15,2))\n",
        "for i in range(2):\n",
        "    for j in range(16):\n",
        "        axs[i,j].imshow(no_training_weights[:,:,0,i*16+j], vmin=-0.5, vmax=0.5)\n",
        "        axs[i,j].axis('off')\n",
        "plt.show()"
      ],
      "metadata": {
        "colab": {
          "base_uri": "https://localhost:8080/",
          "height": 182
        },
        "id": "k2cnAOfBFhyx",
        "outputId": "96071abd-45ea-4bff-c38f-6bc36b9415bb"
      },
      "execution_count": 56,
      "outputs": [
        {
          "output_type": "display_data",
          "data": {
            "text/plain": [
              "<Figure size 1500x200 with 32 Axes>"
            ],
            "image/png": "[encoded data removed]"
          },
          "metadata": {}
        }
      ]
    },
    {
      "cell_type": "markdown",
      "source": [
        "전체적으로 고른 분포를 보여준다. 이전 가중치와 비교했을 때 합성곱 신경망이 패션 MNIST 데이터셋의 분류 정확도를 높이기 위해 유용한 패턴을 학습했다."
      ],
      "metadata": {
        "id": "ygorWz0cF2BZ"
      }
    },
    {
      "cell_type": "markdown",
      "source": [
        "#함수형 API\n",
        "입력과 출력이 모두 2개인것과 같은 복잡한 모델을 만들기 위해서는 Sequential 클래스를 사용하기 어렵다.     \n",
        "이때, 함수형 API를 사용한다."
      ],
      "metadata": {
        "id": "VdL3zeQvGJ7j"
      }
    },
    {
      "cell_type": "markdown",
      "source": [
        "함수형 API는 케라스의  Model 클래스를 사용하여 모델을 만든다. 아래는 Dense 층 2개로 이루어진 완전 연결 신경망을 함수형 API로 구현하는 과정이다."
      ],
      "metadata": {
        "id": "w2y6Wc6PGilO"
      }
    },
    {
      "cell_type": "markdown",
      "source": [
        "먼저 2개의 Dense 층을 만든다."
      ],
      "metadata": {
        "id": "pUeQA8QXGzr0"
      }
    },
    {
      "cell_type": "markdown",
      "source": [
        "\n",
        "\n",
        "*   dense1 = keras.layers.Dense(100, activation='sigmoid')\n",
        "*   dense2 = keras.layers.Dense(10, activation='softmax')\n"
      ],
      "metadata": {
        "id": "pRtk65EEGLa_"
      }
    },
    {
      "cell_type": "markdown",
      "source": [
        "이 객체를 Sequential 클래스 객체의 add() 메서드에 전달할 수 있다. 하지만 다음과 같이 함수처럼 호출할 수도 있다."
      ],
      "metadata": {
        "id": "klY1mVAPHERK"
      }
    },
    {
      "cell_type": "markdown",
      "source": [
        "\n",
        "\n",
        "*   hidden = dense1(inputs)\n",
        "\n"
      ],
      "metadata": {
        "id": "RNoXYSrdHSug"
      }
    },
    {
      "cell_type": "markdown",
      "source": [
        "이때 inputs는 InputLayer(첫 번재 층)에 자동으로 들어가는 클래스이다."
      ],
      "metadata": {
        "id": "JHtE7aMTHy88"
      }
    },
    {
      "cell_type": "markdown",
      "source": [
        "객체를 함수처럼 호출했을 때, 적절히 동작하여 입력값 inputs 를 Dense 층에 통과시킨 후 출력값 hidden을 만들어준다."
      ],
      "metadata": {
        "id": "N40XOwP0IQGU"
      }
    },
    {
      "cell_type": "markdown",
      "source": [
        "다음으로 두 번째 층을 호출한다. 첫 번재 층의 출력을 입력으로 사용한다."
      ],
      "metadata": {
        "id": "9RG7lLxhHUr1"
      }
    },
    {
      "cell_type": "markdown",
      "source": [
        "\n",
        "\n",
        "*   outputs = dense2(hidden)\n",
        "\n",
        "\n"
      ],
      "metadata": {
        "id": "pCDBx7LkJCLe"
      }
    },
    {
      "cell_type": "markdown",
      "source": [
        "그 다음 input 과 outputs 를 Model 클래스로 연결해 주면 된다."
      ],
      "metadata": {
        "id": "OQJ67zORJ4Xp"
      }
    },
    {
      "cell_type": "markdown",
      "source": [
        "model = keras.Model(inputs, outputs)"
      ],
      "metadata": {
        "id": "LryiXMSZJ_Qi"
      }
    },
    {
      "cell_type": "markdown",
      "source": [
        "입력에서 출력까지 층을 연결해주고 Model 클래스에 입력과 최종 출력을 지정한다."
      ],
      "metadata": {
        "id": "KgHL7QugKEj0"
      }
    },
    {
      "cell_type": "markdown",
      "source": [
        "케라스는 InputLayer 클래스 객체를 쉽게 다룰수 있도록  Input 함수를 별도로 제공한다. 입력의 크기를 지정하는 shape 매개변수와 함께 이 함수를 호출하면 InputLayer 클래스 객체를 만들어 출력을 반환한다."
      ],
      "metadata": {
        "id": "1pbfSqITKN7V"
      }
    },
    {
      "cell_type": "markdown",
      "source": [
        "\n",
        "\n",
        "*   inputs = keras.Input(shape=(784,))\n",
        "\n"
      ],
      "metadata": {
        "id": "yE7fz-NwKc3z"
      }
    },
    {
      "cell_type": "markdown",
      "source": [
        "model.input으로 이 모델의 입력 형태를 얻을 수 있다."
      ],
      "metadata": {
        "id": "BMXUdozEKhUK"
      }
    },
    {
      "cell_type": "code",
      "source": [
        "print(model.input)"
      ],
      "metadata": {
        "colab": {
          "base_uri": "https://localhost:8080/"
        },
        "id": "NgZevApWO107",
        "outputId": "f149e414-3421-42f6-bc02-823586777ef5"
      },
      "execution_count": 57,
      "outputs": [
        {
          "output_type": "stream",
          "name": "stdout",
          "text": [
            "KerasTensor(type_spec=TensorSpec(shape=(None, 28, 28, 1), dtype=tf.float32, name='conv2d_input'), name='conv2d_input', description=\"created by layer 'conv2d_input'\")\n"
          ]
        }
      ]
    },
    {
      "cell_type": "markdown",
      "source": [
        "model.input 과 model.Model(model.input, model.layers[0].output을 연결하는 새로운 conv_acti 모델을 만들수 있다."
      ],
      "metadata": {
        "id": "gRo2swJVKnl4"
      }
    },
    {
      "cell_type": "code",
      "source": [
        "conv_acti = keras.Model(model.input, model.layers[0].output)"
      ],
      "metadata": {
        "id": "rWf-syt6LIsh"
      },
      "execution_count": 58,
      "outputs": []
    },
    {
      "cell_type": "markdown",
      "source": [
        "model 객체의 predict 메서드를 호출하면 최종 출력층의 확률을 반환한다.    \n",
        "하지만 conv_acti의  predict() 메서드를 호출하면 첫 번재 Conv2D의 출력을 반환할 것이다."
      ],
      "metadata": {
        "id": "OVwVATs2LSbx"
      }
    },
    {
      "cell_type": "markdown",
      "source": [
        "이제 특성 뱁을 시각화한다."
      ],
      "metadata": {
        "id": "w3_hyuV8LeyJ"
      }
    },
    {
      "cell_type": "markdown",
      "source": [
        "#특성 맵 시각화\n",
        "케라스로 패션 MNIST 데이터셋을 읽은 후 훈련 세트에 있는 첫 번째 샘플을 그려본다."
      ],
      "metadata": {
        "id": "gCnxFCzoLOz6"
      }
    },
    {
      "cell_type": "code",
      "source": [
        "(train_input, train_target), (test_input, test_target) = keras.datasets.fashion_mnist.load_data()\n",
        "plt.imshow(train_input[0], cmap='gray_r')\n",
        "plt.show()"
      ],
      "metadata": {
        "colab": {
          "base_uri": "https://localhost:8080/",
          "height": 430
        },
        "id": "6nowTuNxLho0",
        "outputId": "2bfe6770-d939-4f38-c7b5-c953dea6b800"
      },
      "execution_count": 59,
      "outputs": [
        {
          "output_type": "display_data",
          "data": {
            "text/plain": [
              "<Figure size 640x480 with 1 Axes>"
            ],
            "image/png": "[encoded data removed]"
          },
          "metadata": {}
        }
      ]
    },
    {
      "cell_type": "markdown",
      "source": [
        "부츠 그림이 출력된다.이 샘플을 conv_ati 모델에 주입해 Conv2D 층이 만드는 특성 맵을 출력해본다. predict() 메서드는 항상 입력의 첫 번째 자원이 배치 차원일 것으로 기대하므로 하나의 샘플을 전달하더라도 곡 첫 번재 차원을 유지해야 한다."
      ],
      "metadata": {
        "id": "v-hkL69uL1_H"
      }
    },
    {
      "cell_type": "markdown",
      "source": [
        "이를 위해 슬라이싱 연산자를 사용해 첫 번째 샘츨을 선택하고 (784,)의 크기를 (28, 28, 1)크기로 변경하고 255로 나눈다."
      ],
      "metadata": {
        "id": "4Jvxugk6MKmj"
      }
    },
    {
      "cell_type": "code",
      "source": [
        "inputs = train_input[0:1].reshape(-1, 28, 28, 1)/255.0\n",
        "feature_maps = conv_acti.predict(inputs)"
      ],
      "metadata": {
        "colab": {
          "base_uri": "https://localhost:8080/"
        },
        "id": "lq6ELHHhMUmN",
        "outputId": "83a4d25e-a356-412a-9649-948ea5c0e82e"
      },
      "execution_count": 60,
      "outputs": [
        {
          "output_type": "stream",
          "name": "stdout",
          "text": [
            "1/1 [==============================] - 0s 101ms/step\n"
          ]
        }
      ]
    },
    {
      "cell_type": "markdown",
      "source": [
        "conv_acti.predict() 메서드가 출력한 feature_maps의 크기를 확인한다."
      ],
      "metadata": {
        "id": "SR2Ch-cvMghc"
      }
    },
    {
      "cell_type": "code",
      "source": [
        "print(feature_maps.shape)"
      ],
      "metadata": {
        "colab": {
          "base_uri": "https://localhost:8080/"
        },
        "id": "KcJiiyxxMomy",
        "outputId": "25e36095-8807-43d6-8b90-1a87fe411e3e"
      },
      "execution_count": 61,
      "outputs": [
        {
          "output_type": "stream",
          "name": "stdout",
          "text": [
            "(1, 28, 28, 32)\n"
          ]
        }
      ]
    },
    {
      "cell_type": "markdown",
      "source": [
        "세임 패딩과 32개의 필터를 사용한 층의 출력이므로 (28, 28, 32)이다. 첫 번째 차원은 배치 차원이므로 샘플을 하나 입력했기 때문에 1이다."
      ],
      "metadata": {
        "id": "AAcPiXX3Mr1T"
      }
    },
    {
      "cell_type": "markdown",
      "source": [
        "이제 맷 플롯립의 imshow 함수로 이 특성맵을 그려본다."
      ],
      "metadata": {
        "id": "bbZk3vD0M2XW"
      }
    },
    {
      "cell_type": "code",
      "source": [
        "fig, axs = plt.subplots(4,8,figsize=(15,8))\n",
        "for i in range(4):\n",
        "    for j in range(8):\n",
        "        axs[i,j].imshow(feature_maps[0,:,:,i*8+j])\n",
        "        axs[i,j].axis('off')\n",
        "plt.show()"
      ],
      "metadata": {
        "colab": {
          "base_uri": "https://localhost:8080/",
          "height": 642
        },
        "id": "aNov3BTrPGPE",
        "outputId": "4f323d9c-7e9c-4bed-903d-e2c3d5d1c2d2"
      },
      "execution_count": 64,
      "outputs": [
        {
          "output_type": "display_data",
          "data": {
            "text/plain": [
              "<Figure size 1500x800 with 32 Axes>"
            ],
            "image/png": "[encoded data removed]"
          },
          "metadata": {}
        }
      ]
    },
    {
      "cell_type": "markdown",
      "source": [
        "이 특성 맵은 32개의 필터로 이해 입력 이미지에서 강하게 활성화된 부분을 보여준다.     \n",
        "이때 마지막 필터는 전체적으로 낮은 음수값인데, 부츠의 배경이 상대적으로 크게 활성화되어있디."
      ],
      "metadata": {
        "id": "eC3zzcpXPg7D"
      }
    },
    {
      "cell_type": "markdown",
      "source": [
        "두 번째 합성곱 층이 만든 특성 맵도 같은 방식으로 확인할 수 있다. model 객체의 입력과 두 번재 합성곱 층인 model.layers[2]의 출력을 연결한 conv2_acti 모델을 만든다."
      ],
      "metadata": {
        "id": "dsowBdbbPxJo"
      }
    },
    {
      "cell_type": "code",
      "source": [
        "conv2_acti = keras.Model(model.input, model.layers[2].output)"
      ],
      "metadata": {
        "id": "guKHG5FWP9u3"
      },
      "execution_count": 65,
      "outputs": []
    },
    {
      "cell_type": "markdown",
      "source": [
        "다음으로 첫 번째 샘플을 conv2_acti 모델의 predict 메서드에 전달한다."
      ],
      "metadata": {
        "id": "Iv_Q3SflQDKF"
      }
    },
    {
      "cell_type": "code",
      "source": [
        "inputs = train_input[0:1].reshape(-1,28,28,1)/255.0\n",
        "feature_maps = conv2_acti.predict(inputs)"
      ],
      "metadata": {
        "colab": {
          "base_uri": "https://localhost:8080/"
        },
        "id": "im-DHzzeQJre",
        "outputId": "9d52d5f4-fd64-4316-aa8b-0819336e736e"
      },
      "execution_count": 66,
      "outputs": [
        {
          "output_type": "stream",
          "name": "stdout",
          "text": [
            "1/1 [==============================] - 0s 182ms/step\n"
          ]
        }
      ]
    },
    {
      "cell_type": "markdown",
      "source": [
        "첫 번째 풀링 층에서 가로 세로 크기가 절바능로 줄었고, 두 번재 합성곱 층의 필터 개수는 64개이므로 feature_mpas의 크기는 배치 차원을 제외하면 (14,14,64) 일것이다."
      ],
      "metadata": {
        "id": "wQiVbFQfQSGA"
      }
    },
    {
      "cell_type": "code",
      "source": [
        "print(feature_maps.shape)"
      ],
      "metadata": {
        "colab": {
          "base_uri": "https://localhost:8080/"
        },
        "id": "5mAPj7HfQg9o",
        "outputId": "c09fcc7d-3462-4ea6-c6ac-e0c8ed1e31d9"
      },
      "execution_count": 67,
      "outputs": [
        {
          "output_type": "stream",
          "name": "stdout",
          "text": [
            "(1, 14, 14, 64)\n"
          ]
        }
      ]
    },
    {
      "cell_type": "markdown",
      "source": [
        "이제 imshow() 함수로 그려본다."
      ],
      "metadata": {
        "id": "JJnmuiIJQkrT"
      }
    },
    {
      "cell_type": "code",
      "source": [
        "fig, axs = plt.subplots(8,8,figsize=(12,12))\n",
        "for i in range(8):\n",
        "    for j in range(8):\n",
        "        axs[i,j].imshow(feature_maps[0,:,:,i*8+j])\n",
        "        axs[i,j].axis('off')\n",
        "plt.show()"
      ],
      "metadata": {
        "colab": {
          "base_uri": "https://localhost:8080/",
          "height": 961
        },
        "id": "KbRQdiuMQo6A",
        "outputId": "1284f85b-7275-4908-e36c-1a71f7c8ef0f"
      },
      "execution_count": 68,
      "outputs": [
        {
          "output_type": "display_data",
          "data": {
            "text/plain": [
              "<Figure size 1200x1200 with 64 Axes>"
            ],
            "image/png": "[encoded data removed]"
          },
          "metadata": {}
        }
      ]
    },
    {
      "cell_type": "markdown",
      "source": [
        "두 번째 특성뱁은 시각적으로 이해하기 어렵다."
      ],
      "metadata": {
        "id": "JR7-7Cj3QvbI"
      }
    },
    {
      "cell_type": "markdown",
      "source": [
        "두 번재 합성곱 층의 필터 크기는 (3,3,32) 이다. 두 번째 합성곱 층의 첫 번재 필터가 앞서 출력한 32개의 특성 맵과 곱해져 두 번째 합성곱 층의 첫 번째 특성 맵이 된다. 따라서 특성뱁에서 어던 부위를 감지하는지 직관적으로 이해하기 어렵다."
      ],
      "metadata": {
        "id": "xfNpUCMwQy93"
      }
    }
  ]
}